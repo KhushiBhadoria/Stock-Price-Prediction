{
  "nbformat": 4,
  "nbformat_minor": 0,
  "metadata": {
    "colab": {
      "name": "Dynamic LSTM",
      "provenance": [],
      "collapsed_sections": [],
      "include_colab_link": true
    },
    "kernelspec": {
      "name": "python3",
      "display_name": "Python 3"
    },
    "language_info": {
      "name": "python"
    }
  },
  "cells": [
    {
      "cell_type": "markdown",
      "metadata": {
        "id": "view-in-github",
        "colab_type": "text"
      },
      "source": [
        "<a href=\"https://colab.research.google.com/github/KhushiBhadoria/Stock-Price-Prediction/blob/main/LSTM.ipynb\" target=\"_parent\"><img src=\"https://colab.research.google.com/assets/colab-badge.svg\" alt=\"Open In Colab\"/></a>"
      ]
    },
    {
      "cell_type": "code",
      "metadata": {
        "id": "5lqsgPSckti0"
      },
      "source": [
        "import os\n",
        "os.environ['KERAS_BACKEND']='theano'\n",
        "import keras\n",
        "import math\n",
        "import numpy as np\n",
        "import matplotlib.pyplot as plt\n",
        "import pandas as pd\n",
        "from sklearn import preprocessing\n",
        "from sklearn import model_selection\n",
        "from sklearn import metrics\n",
        "from sklearn.metrics import mean_squared_error\n",
        "from keras.models import sequential\n",
        "from keras.layers import LSTM\n",
        "from keras.layers import Dense\n",
        "from keras.layers import Dropout\n",
        "from keras.models import load_model \n",
        "import random"
      ],
      "execution_count": null,
      "outputs": []
    },
    {
      "cell_type": "code",
      "metadata": {
        "id": "ElfA6AFEkxdI"
      },
      "source": [
        "random.seed(200)\n",
        "file=input(\"Enter the file name\")\n",
        "data=pd.read_csv(file.'csv',index_col=None,na_values=['NA'])"
      ],
      "execution_count": null,
      "outputs": []
    },
    {
      "cell_type": "code",
      "metadata": {
        "colab": {
          "base_uri": "https://localhost:8080/"
        },
        "id": "tzL6qx9Uk9vC",
        "outputId": "c6a4f455-6d73-4f24-fb75-3ff0f1a3d3cc"
      },
      "source": [
        "data_to_use=int(input(\"enter the range\"))\n",
        "train_end=int(input(\"enter the range to end training\"))"
      ],
      "execution_count": null,
      "outputs": [
        {
          "name": "stdout",
          "output_type": "stream",
          "text": [
            "enter the range200\n",
            "enter the range to end training40\n"
          ]
        }
      ]
    },
    {
      "cell_type": "code",
      "metadata": {
        "colab": {
          "base_uri": "https://localhost:8080/"
        },
        "id": "rNkbk1kElGKG",
        "outputId": "6f0e3519-b305-4e33-8524-5d8c00a5e9e4"
      },
      "source": [
        "total_data=len(data)\n",
        "print(total_data)"
      ],
      "execution_count": null,
      "outputs": [
        {
          "output_type": "stream",
          "name": "stdout",
          "text": [
            "5306\n"
          ]
        }
      ]
    },
    {
      "cell_type": "code",
      "metadata": {
        "colab": {
          "base_uri": "https://localhost:8080/"
        },
        "id": "ZO8XovzHlJXy",
        "outputId": "9e52f3a5-e016-4f84-e89d-ef995bed000e"
      },
      "source": [
        "start=total_data-data_to_use\n",
        "print(start)"
      ],
      "execution_count": null,
      "outputs": [
        {
          "output_type": "stream",
          "name": "stdout",
          "text": [
            "5106\n"
          ]
        }
      ]
    },
    {
      "cell_type": "code",
      "metadata": {
        "colab": {
          "base_uri": "https://localhost:8080/"
        },
        "id": "DSfF9PRnlQxY",
        "outputId": "7ae2cb50-829d-4d4e-f05e-0b71ea94b69d"
      },
      "source": [
        "i=[]\n",
        "t=True\n",
        "while t:\n",
        "  col=int(input(\"enter the columns you want\"))\n",
        "  i.append(col)\n",
        "  op=int(input(\"Do you want more columns 1.Yes 2.No\"))\n",
        "  if op==1:\n",
        "    t=True\n",
        "  else:\n",
        "    t=False\n",
        "l=[]\n",
        "for x in range (len(i)):\n",
        "  a= data.iloc[start:total_data ,i[x]]\n",
        "  l.append(a)\n",
        "print(l)\n",
        "YY=int(input(\"enter the column you want to predict\"))\n",
        "yt1 = data.iloc [start:total_data ,YY]\n",
        "yt1_=yt1.shift(-1)"
      ],
      "execution_count": null,
      "outputs": [
        {
          "name": "stdout",
          "output_type": "stream",
          "text": [
            "enter the columns you want3\n",
            "Do you want more columns 1.Yes 2.No1\n",
            "enter the columns you want5\n",
            "Do you want more columns 1.Yes 2.No1\n",
            "enter the columns you want6\n",
            "Do you want more columns 1.Yes 2.No1\n",
            "enter the columns you want7\n",
            "Do you want more columns 1.Yes 2.No1\n",
            "enter the columns you want8\n",
            "Do you want more columns 1.Yes 2.No1\n",
            "enter the columns you want10\n",
            "Do you want more columns 1.Yes 2.No2\n",
            "[5106    227.60\n",
            "5107    225.00\n",
            "5108    262.75\n",
            "5109    261.90\n",
            "5110    261.35\n",
            "         ...  \n",
            "5301    475.70\n",
            "5302    480.30\n",
            "5303    485.05\n",
            "5304    489.30\n",
            "5305    489.85\n",
            "Name: Prev Close, Length: 200, dtype: float64, 5106    231.70\n",
            "5107    268.70\n",
            "5108    268.45\n",
            "5109    263.85\n",
            "5110    273.55\n",
            "         ...  \n",
            "5301    483.85\n",
            "5302    487.00\n",
            "5303    493.20\n",
            "5304    492.80\n",
            "5305    511.80\n",
            "Name: High, Length: 200, dtype: float64, 5106    224.10\n",
            "5107    235.00\n",
            "5108    255.05\n",
            "5109    257.00\n",
            "5110    259.00\n",
            "         ...  \n",
            "5301    477.00\n",
            "5302    481.00\n",
            "5303    481.25\n",
            "5304    485.70\n",
            "5305    489.30\n",
            "Name: Low, Length: 200, dtype: float64, 5106    225.30\n",
            "5107    263.00\n",
            "5108    261.25\n",
            "5109    261.65\n",
            "5110    272.95\n",
            "         ...  \n",
            "5301    482.00\n",
            "5302    483.85\n",
            "5303    488.65\n",
            "5304    489.00\n",
            "5305    492.50\n",
            "Name: Last, Length: 200, dtype: float64, 5106    225.00\n",
            "5107    262.75\n",
            "5108    261.90\n",
            "5109    261.35\n",
            "5110    270.80\n",
            "         ...  \n",
            "5301    480.30\n",
            "5302    485.05\n",
            "5303    489.30\n",
            "5304    489.85\n",
            "5305    492.75\n",
            "Name: Close, Length: 200, dtype: float64, 5106     13939467\n",
            "5107    130367693\n",
            "5108     52277954\n",
            "5109     18856512\n",
            "5110     21395182\n",
            "          ...    \n",
            "5301      9314644\n",
            "5302      7209467\n",
            "5303      9615534\n",
            "5304      7641133\n",
            "5305     29115571\n",
            "Name: Volume, Length: 200, dtype: int64]\n",
            "enter the column you want to predict4\n"
          ]
        }
      ]
    },
    {
      "cell_type": "code",
      "metadata": {
        "colab": {
          "base_uri": "https://localhost:8080/"
        },
        "id": "Kcmsv6Qrdrow",
        "outputId": "284b92f6-08f4-4816-c7d4-d760ba77f2a1"
      },
      "source": [
        "data=pd.DataFrame(l).T\n",
        "print(data)\n",
        "data_=pd.DataFrame({'Open':yt1,'yt1_':yt1_})\n",
        "print(data_)\n",
        "data_1= pd.concat([data, data_], axis=1)\n",
        "data_1 = data_1.dropna()\n",
        "print(data_1)"
      ],
      "execution_count": null,
      "outputs": [
        {
          "output_type": "stream",
          "name": "stdout",
          "text": [
            "      Prev Close    High     Low    Last   Close       Volume\n",
            "5106      227.60  231.70  224.10  225.30  225.00   13939467.0\n",
            "5107      225.00  268.70  235.00  263.00  262.75  130367693.0\n",
            "5108      262.75  268.45  255.05  261.25  261.90   52277954.0\n",
            "5109      261.90  263.85  257.00  261.65  261.35   18856512.0\n",
            "5110      261.35  273.55  259.00  272.95  270.80   21395182.0\n",
            "...          ...     ...     ...     ...     ...          ...\n",
            "5301      475.70  483.85  477.00  482.00  480.30    9314644.0\n",
            "5302      480.30  487.00  481.00  483.85  485.05    7209467.0\n",
            "5303      485.05  493.20  481.25  488.65  489.30    9615534.0\n",
            "5304      489.30  492.80  485.70  489.00  489.85    7641133.0\n",
            "5305      489.85  511.80  489.30  492.50  492.75   29115571.0\n",
            "\n",
            "[200 rows x 6 columns]\n",
            "        Open    yt1_\n",
            "5106  228.40  236.00\n",
            "5107  236.00  262.50\n",
            "5108  262.50  258.60\n",
            "5109  258.60  261.35\n",
            "5110  261.35  278.50\n",
            "...      ...     ...\n",
            "5301  479.40  481.40\n",
            "5302  481.40  485.85\n",
            "5303  485.85  492.70\n",
            "5304  492.70  491.50\n",
            "5305  491.50     NaN\n",
            "\n",
            "[200 rows x 2 columns]\n",
            "      Prev Close    High     Low    Last   Close       Volume    Open    yt1_\n",
            "5106      227.60  231.70  224.10  225.30  225.00   13939467.0  228.40  236.00\n",
            "5107      225.00  268.70  235.00  263.00  262.75  130367693.0  236.00  262.50\n",
            "5108      262.75  268.45  255.05  261.25  261.90   52277954.0  262.50  258.60\n",
            "5109      261.90  263.85  257.00  261.65  261.35   18856512.0  258.60  261.35\n",
            "5110      261.35  273.55  259.00  272.95  270.80   21395182.0  261.35  278.50\n",
            "...          ...     ...     ...     ...     ...          ...     ...     ...\n",
            "5300      486.65  487.35  474.35  475.40  475.70   13596003.0  483.55  479.40\n",
            "5301      475.70  483.85  477.00  482.00  480.30    9314644.0  479.40  481.40\n",
            "5302      480.30  487.00  481.00  483.85  485.05    7209467.0  481.40  485.85\n",
            "5303      485.05  493.20  481.25  488.65  489.30    9615534.0  485.85  492.70\n",
            "5304      489.30  492.80  485.70  489.00  489.85    7641133.0  492.70  491.50\n",
            "\n",
            "[199 rows x 8 columns]\n"
          ]
        }
      ]
    },
    {
      "cell_type": "code",
      "metadata": {
        "colab": {
          "base_uri": "https://localhost:8080/"
        },
        "id": "Q8tJ0C45kM9u",
        "outputId": "0be5e65c-cad9-4c2a-c324-9783d06faa8d"
      },
      "source": [
        "y=data_1['yt1_']\n",
        "print(y)\n",
        "x=data_1.iloc[ : ,:-1]\n",
        "print(x)\n",
        "cols=x.columns\n"
      ],
      "execution_count": null,
      "outputs": [
        {
          "output_type": "stream",
          "name": "stdout",
          "text": [
            "5106    236.00\n",
            "5107    262.50\n",
            "5108    258.60\n",
            "5109    261.35\n",
            "5110    278.50\n",
            "         ...  \n",
            "5300    479.40\n",
            "5301    481.40\n",
            "5302    485.85\n",
            "5303    492.70\n",
            "5304    491.50\n",
            "Name: yt1_, Length: 199, dtype: float64\n",
            "      Prev Close    High     Low    Last   Close       Volume    Open\n",
            "5106      227.60  231.70  224.10  225.30  225.00   13939467.0  228.40\n",
            "5107      225.00  268.70  235.00  263.00  262.75  130367693.0  236.00\n",
            "5108      262.75  268.45  255.05  261.25  261.90   52277954.0  262.50\n",
            "5109      261.90  263.85  257.00  261.65  261.35   18856512.0  258.60\n",
            "5110      261.35  273.55  259.00  272.95  270.80   21395182.0  261.35\n",
            "...          ...     ...     ...     ...     ...          ...     ...\n",
            "5300      486.65  487.35  474.35  475.40  475.70   13596003.0  483.55\n",
            "5301      475.70  483.85  477.00  482.00  480.30    9314644.0  479.40\n",
            "5302      480.30  487.00  481.00  483.85  485.05    7209467.0  481.40\n",
            "5303      485.05  493.20  481.25  488.65  489.30    9615534.0  485.85\n",
            "5304      489.30  492.80  485.70  489.00  489.85    7641133.0  492.70\n",
            "\n",
            "[199 rows x 7 columns]\n"
          ]
        }
      ]
    },
    {
      "cell_type": "code",
      "metadata": {
        "id": "YPt_lZoLk9te"
      },
      "source": [
        "scaler_x=preprocessing.MinMaxScaler(feature_range=(0,1))\n",
        "x=np.array(x).reshape((len(x),len(cols)))\n",
        "x=scaler_x.fit_transform(x)\n",
        "scaler_y=preprocessing.MinMaxScaler(feature_range=(0,1))\n",
        "y=np.array(y).reshape((len(y),1))\n",
        "y=scaler_y.fit_transform(y)"
      ],
      "execution_count": null,
      "outputs": []
    },
    {
      "cell_type": "code",
      "metadata": {
        "colab": {
          "base_uri": "https://localhost:8080/"
        },
        "id": "LFH6UW9plT9-",
        "outputId": "b54e8301-3b17-4e77-ed20-13cc8c292b47"
      },
      "source": [
        "from sklearn.model_selection import train_test_split\n",
        "size=float(input(\"enter the size of testing\"))\n",
        "x_train,x_test,y_train,y_test=train_test_split(x,y,test_size=size,random_state=1)\n",
        "dataset_sz = x.shape[0]\n",
        "train_sz = x_train.shape[0]\n",
        "test_sz = x_test.shape[0]\n",
        "x_train = np.reshape(x_train, (x_train.shape[0], x_train.shape[1],-1))\n",
        "y_train = np.reshape(y_train, (train_sz,-1))"
      ],
      "execution_count": null,
      "outputs": [
        {
          "name": "stdout",
          "output_type": "stream",
          "text": [
            "enter the size of testing0.2\n"
          ]
        }
      ]
    },
    {
      "cell_type": "code",
      "metadata": {
        "id": "62oWK4KPp8Qf"
      },
      "source": [
        "# from sklearn.model_selection import train_test_split\n",
        "# x_train,x_test,y_train,y_test=train_test_split(x,y,test_size=0.2,random_state=1)\n",
        "# dataset_sz = x.shape[0]\n",
        "# train_sz = x_train.shape[0]\n",
        "# test_sz = x_test.shape[0]\n",
        "# x_train = np.reshape(x_train, (x_train.shape[0], x_train.shape[1],-1))\n",
        "# y_train = np.reshape(y_train, (train_sz,-1))"
      ],
      "execution_count": null,
      "outputs": []
    },
    {
      "cell_type": "code",
      "metadata": {
        "colab": {
          "base_uri": "https://localhost:8080/"
        },
        "id": "CjQIp3BXl4TN",
        "outputId": "0e2fe4c9-eb2c-4797-c4c1-6d147406b383"
      },
      "source": [
        "from keras.models import Sequential\n",
        "act=input(\"ENter the activation function 1.tanh 2.relu 3.sigmoid 4.ELU \")\n",
        "inact=input(\"Enter the inner activation function 1.hard_sigmoid 2.sigmoid \")\n",
        "den=int(input(\"Enter the dense value\"))\n",
        "dro_=float(input(\"ENter the dropout value\"))\n",
        "model=Sequential()\n",
        "model.add(LSTM(100, activation=act, recurrent_activation=inact,input_shape=(len(cols),1)))\n",
        "model.add(Dense(den))\n",
        "model.add(Dropout(dro_))\n",
        "model.add(Dense(den))\n",
        "model.add(Dropout(dro_))\n",
        "model.add(Dense(1,activation='linear'))"
      ],
      "execution_count": null,
      "outputs": [
        {
          "name": "stdout",
          "output_type": "stream",
          "text": [
            "ENter the activation function 1.tanh 2.relu 3.sigmoid 4.ELU tanh\n",
            "Enter the inner activation function 1.hard_sigmoid 2.sigmoid hard_sigmoid\n",
            "Enter the dense value50\n",
            "ENter the dropout value0.3\n"
          ]
        }
      ]
    },
    {
      "cell_type": "code",
      "metadata": {
        "id": "kEKR_2HdpkF-"
      },
      "source": [
        "# from keras.models import Sequential\n",
        "# model=Sequential()\n",
        "# model.add(LSTM(100, activation='tanh', recurrent_activation='hard_sigmoid',input_shape=(len(cols),1)))\n",
        "# model.add(Dense(50 ))\n",
        "# model.add(Dropout(0.3))\n",
        "# model.add(Dense(50))\n",
        "# model.add(Dropout(0.3))\n",
        "# model.add(Dense(1,activation='linear'))"
      ],
      "execution_count": null,
      "outputs": []
    },
    {
      "cell_type": "code",
      "metadata": {
        "colab": {
          "base_uri": "https://localhost:8080/"
        },
        "id": "FpgO440Vo00U",
        "outputId": "52626dd3-8750-4884-8a41-68695dfa0b48"
      },
      "source": [
        "opt=input(\"ENter the name of optimizer 1.RMSprop 2.SGD 3.Adam 4.Adadelta 5.Adagrad 6.FTRL\")\n",
        "model.compile(optimizer=opt,loss='mean_squared_error')\n",
        "bat=int(input(\"enter the batch size\"))\n",
        "epo=int(input(\"enter the epochs\"))\n",
        "history=model.fit(x_train,y_train,batch_size=bat,epochs=epo,shuffle=False)\n",
        "print(history)"
      ],
      "execution_count": null,
      "outputs": [
        {
          "output_type": "stream",
          "name": "stdout",
          "text": [
            "ENter the name of optimizer 1.RMSprop 2.SGD 3.Adam 4.Adadelta 5.Adagrad 6.FTRLRMSprop\n",
            "enter the batch size25\n",
            "enter the epochs7\n",
            "Epoch 1/7\n",
            "7/7 [==============================] - 3s 13ms/step - loss: 0.0887\n",
            "Epoch 2/7\n",
            "7/7 [==============================] - 0s 11ms/step - loss: 0.0271\n",
            "Epoch 3/7\n",
            "7/7 [==============================] - 0s 11ms/step - loss: 0.0148\n",
            "Epoch 4/7\n",
            "7/7 [==============================] - 0s 15ms/step - loss: 0.0156\n",
            "Epoch 5/7\n",
            "7/7 [==============================] - 0s 14ms/step - loss: 0.0155\n",
            "Epoch 6/7\n",
            "7/7 [==============================] - 0s 13ms/step - loss: 0.0171\n",
            "Epoch 7/7\n",
            "7/7 [==============================] - 0s 14ms/step - loss: 0.0145\n",
            "<keras.callbacks.History object at 0x7fa7da2e25d0>\n"
          ]
        }
      ]
    },
    {
      "cell_type": "code",
      "metadata": {
        "id": "Lu-fuIM6p0Vf"
      },
      "source": [
        "# model.compile(optimizer='RMSprop',loss='mean_squared_error')\n",
        "# history=model.fit(x_train,y_train,batch_size=25,epochs=5,shuffle=False)\n",
        "# print(history)"
      ],
      "execution_count": null,
      "outputs": []
    },
    {
      "cell_type": "code",
      "metadata": {
        "colab": {
          "base_uri": "https://localhost:8080/"
        },
        "id": "jOfYZyvAqubR",
        "outputId": "feaea147-2634-4ec1-facc-690e0ce1bbeb"
      },
      "source": [
        "x_test=np.reshape(x_test,(x_test.shape[0],x_test.shape[1],-1))\n",
        "score_train=model.evaluate(x_train,y_train,batch_size=1)\n",
        "score_test=model.evaluate(x_test,y_test,batch_size=1)\n",
        "print(\"in train MSE=\",round(score_train,4))\n",
        "print(\"in test MSE=\",score_test)"
      ],
      "execution_count": null,
      "outputs": [
        {
          "output_type": "stream",
          "name": "stdout",
          "text": [
            "159/159 [==============================] - 1s 2ms/step - loss: 0.0063\n",
            "40/40 [==============================] - 0s 2ms/step - loss: 0.0053\n",
            "in train MSE= 0.0063\n",
            "in test MSE= 0.005277569405734539\n"
          ]
        }
      ]
    },
    {
      "cell_type": "code",
      "metadata": {
        "colab": {
          "base_uri": "https://localhost:8080/"
        },
        "id": "pxWv3pGwq5pp",
        "outputId": "cc15fd71-6e64-430a-a335-90f7fe0ceb25"
      },
      "source": [
        "x_test=np.reshape(x_test,(x_test.shape[0],x_test.shape[1],-1))\n",
        "pred1= model.predict(x_test)\n",
        "pred1= scaler_y.inverse_transform(np.array(pred1).reshape((len(pred1),1)))\n",
        "pred=pd.DataFrame(pred1)\n",
        "print(pred1)\n",
        "prediction_data=pred1[-1]\n",
        "print(\"prediction data:\")\n",
        "print(prediction_data)\n",
        "print(\"actual data\")\n",
        "x_test=scaler_x.inverse_transform(np.array(x_test).reshape((len(x_test),len(cols))))\n",
        "print(x_test)"
      ],
      "execution_count": null,
      "outputs": [
        {
          "output_type": "stream",
          "name": "stdout",
          "text": [
            "[[0.6060151 ]\n",
            " [0.18259564]\n",
            " [0.15063919]\n",
            " [0.37077585]\n",
            " [0.66070026]\n",
            " [0.63667136]\n",
            " [0.39062822]\n",
            " [0.13384122]\n",
            " [0.13381603]\n",
            " [0.64444584]\n",
            " [0.2708041 ]\n",
            " [0.15368983]\n",
            " [0.14757024]\n",
            " [0.6405629 ]\n",
            " [0.6837689 ]\n",
            " [0.50068426]\n",
            " [0.40013403]\n",
            " [0.1392147 ]\n",
            " [0.40020502]\n",
            " [0.34247538]\n",
            " [0.2867219 ]\n",
            " [0.15660097]\n",
            " [0.26216298]\n",
            " [0.39072308]\n",
            " [0.13224895]\n",
            " [0.6612396 ]\n",
            " [0.15456893]\n",
            " [0.14304651]\n",
            " [0.6340009 ]\n",
            " [0.1489776 ]\n",
            " [0.27966833]\n",
            " [0.6929695 ]\n",
            " [0.34571353]\n",
            " [0.65202767]\n",
            " [0.67611796]\n",
            " [0.5730901 ]\n",
            " [0.68466705]\n",
            " [0.5820848 ]\n",
            " [0.33676642]\n",
            " [0.4940567 ]]\n",
            "prediction data:\n",
            "[0.4940567]\n",
            "actual data\n",
            "[[0.71679909 0.72945205 0.72094801 0.72032613 0.71927506 0.08352169\n",
            "  0.71623156]\n",
            " [0.20336739 0.21023592 0.20795107 0.21596511 0.21729281 0.16622343\n",
            "  0.20355656]\n",
            " [0.1780174  0.1914003  0.16781346 0.16514979 0.17481593 0.15292814\n",
            "  0.17253121]\n",
            " [0.46802876 0.45909437 0.44992355 0.45582101 0.45421937 0.05137051\n",
            "  0.45913734]\n",
            " [0.75879682 0.78386606 0.77293578 0.80015169 0.79403436 0.09078258\n",
            "  0.76409383]\n",
            " [0.72417707 0.74657534 0.73432722 0.76071293 0.7568435  0.15790308\n",
            "  0.71150208]\n",
            " [0.49375709 0.48363775 0.47954893 0.47326507 0.47196526 0.04677649\n",
            "  0.48997351]\n",
            " [0.13753311 0.15924658 0.13340979 0.18069776 0.17292807 0.15928242\n",
            "  0.12466894]\n",
            " [0.18293606 0.16267123 0.18272171 0.17974972 0.18010194 0.04170372\n",
            "  0.17063942]\n",
            " [0.73477109 0.75722983 0.7603211  0.76033371 0.76156315 0.12762169\n",
            "  0.74801362]\n",
            " [0.30155127 0.31792237 0.30619266 0.33598786 0.3356617  0.16400329\n",
            "  0.29474082]\n",
            " [0.20677261 0.19082953 0.19992355 0.1996587  0.19784784 0.0507024\n",
            "  0.19920545]\n",
            " [0.19088157 0.1761796  0.1844419  0.19529769 0.19633755 0.07741519\n",
            "  0.1717745 ]\n",
            " [0.71660991 0.76636225 0.74216361 0.78763747 0.77553332 0.10898134\n",
            "  0.72379871]\n",
            " [0.81101022 0.80840944 0.80619266 0.81304513 0.80800453 0.07605779\n",
            "  0.80817253]\n",
            " [0.59742717 0.6042618  0.60779817 0.60333713 0.60411554 0.08262623\n",
            "  0.58872493]\n",
            " [0.50889141 0.48059361 0.49178135 0.49677664 0.49424202 0.04743271\n",
            "  0.48354143]\n",
            " [0.17517972 0.18150685 0.17163609 0.17766401 0.17594865 0.08905994\n",
            "  0.16118048]\n",
            " [0.50472947 0.48535008 0.50229358 0.49734547 0.49801775 0.02635527\n",
            "  0.4918653 ]\n",
            " [0.33314415 0.39687976 0.34824159 0.41600303 0.41136492 0.29438054\n",
            "  0.32841468]\n",
            " [0.33011729 0.34284627 0.33275994 0.33788396 0.33924863 0.16502717\n",
            "  0.32765796]\n",
            " [0.21206962 0.20072298 0.20374618 0.20022753 0.20086842 0.05089023\n",
            "  0.19996216]\n",
            " [0.25841846 0.2924277  0.2639526  0.3064088  0.31036436 0.28808301\n",
            "  0.24536512]\n",
            " [0.45894816 0.4783105  0.46597859 0.4979143  0.49405324 0.0739409\n",
            "  0.45251608]\n",
            " [0.17007189 0.16362253 0.16781346 0.17709518 0.17764773 0.06853671\n",
            "  0.15720772]\n",
            " [0.76485055 0.78881279 0.76185015 0.80375427 0.80422881 0.10120788\n",
            "  0.74385168]\n",
            " [0.21888006 0.18188737 0.19495413 0.19491847 0.19256183 0.07682912\n",
            "  0.19031404]\n",
            " [0.1861521  0.17979452 0.18577982 0.18278347 0.18255616 0.05581681\n",
            "  0.19125993]\n",
            " [0.77298524 0.77549467 0.74006116 0.73625332 0.73494431 0.08783911\n",
            "  0.758986  ]\n",
            " [0.20715096 0.17998478 0.18769113 0.18657565 0.18576553 0.07053416\n",
            "  0.19144911]\n",
            " [0.32973893 0.32343988 0.31766055 0.3246113  0.32735511 0.20107022\n",
            "  0.29833523]\n",
            " [0.80892925 0.79261796 0.73738532 0.7459234  0.73947517 0.33314647\n",
            "  0.80060537]\n",
            " [0.41222096 0.39421613 0.3780581  0.39533561 0.39663961 0.20699772\n",
            "  0.40332955]\n",
            " [0.78887628 0.78082192 0.78038991 0.77777778 0.77364546 0.04971558\n",
            "  0.77601211]\n",
            " [0.80968596 0.79452055 0.80007645 0.81494122 0.80045309 0.06548284\n",
            "  0.79682179]\n",
            " [0.64850549 0.67770167 0.64755352 0.68335229 0.68453842 0.18830271\n",
            "  0.62693908]\n",
            " [0.83144154 0.83447489 0.80676606 0.80621919 0.80139702 0.05115728\n",
            "  0.82009081]\n",
            " [0.72077185 0.69920091 0.70756881 0.70345089 0.70228431 0.03387716\n",
            "  0.69220583]\n",
            " [0.43776012 0.41875951 0.41896024 0.41410694 0.41457429 0.03149159\n",
            "  0.42886871]\n",
            " [0.60537268 0.58942161 0.60665138 0.60409556 0.6018501  0.04967806\n",
            "  0.59250851]]\n"
          ]
        }
      ]
    },
    {
      "cell_type": "code",
      "metadata": {
        "colab": {
          "base_uri": "https://localhost:8080/",
          "height": 628
        },
        "id": "2PdFbQC2q9br",
        "outputId": "bcd63112-8905-47ec-bd40-7f26ca7acb4f"
      },
      "source": [
        "plt.plot(pred1,label=\"predictions\",c='g')\n",
        "y_test=scaler_y.inverse_transform(np.array(y_test).reshape((len(y_test),1)))\n",
        "plt.plot([row[0]for row in y_test],label='actual',c='r')\n",
        "plt.figure(figsize=(10,5))\n",
        "plt.plot(pred1,label=\"predicted\",c=\"g\")\n",
        "plt.plot([row[0]for row in y_test],label=\"actual\",c='r')\n",
        "plt.legend()\n",
        "plt.show()\n",
        "print(x_test[-1])\n",
        "print(pred1[-1])"
      ],
      "execution_count": null,
      "outputs": [
        {
          "output_type": "display_data",
          "data": {
            "image/png": "[encoded data removed]",
            "text/plain": [
              "<Figure size 432x288 with 1 Axes>"
            ]
          },
          "metadata": {
            "needs_background": "light"
          }
        },
        {
          "output_type": "display_data",
          "data": {
            "image/png": "[encoded data removed]",
            "text/plain": [
              "<Figure size 720x360 with 1 Axes>"
            ]
          },
          "metadata": {
            "needs_background": "light"
          }
        },
        {
          "output_type": "stream",
          "name": "stdout",
          "text": [
            "[3.850000e+02 3.866000e+02 3.828000e+02 3.846000e+02 3.844000e+02\n",
            " 7.188435e+06 3.850000e+02]\n",
            "[374.4997]\n"
          ]
        }
      ]
    }
  ]
}